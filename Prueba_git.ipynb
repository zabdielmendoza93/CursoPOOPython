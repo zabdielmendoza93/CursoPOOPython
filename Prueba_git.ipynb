{
  "nbformat": 4,
  "nbformat_minor": 0,
  "metadata": {
    "colab": {
      "provenance": [],
      "mount_file_id": "1sBzCcwpF3V_7MRhX1VNGJpWFj3qw6ORQ",
      "authorship_tag": "ABX9TyO4tITErIIlG2Nl3FGi+/eK",
      "include_colab_link": true
    },
    "kernelspec": {
      "name": "python3",
      "display_name": "Python 3"
    },
    "language_info": {
      "name": "python"
    }
  },
  "cells": [
    {
      "cell_type": "markdown",
      "metadata": {
        "id": "view-in-github",
        "colab_type": "text"
      },
      "source": [
        "<a href=\"https://colab.research.google.com/github/zabdielmendoza93/CursoPOOPython/blob/main/Prueba_git.ipynb\" target=\"_parent\"><img src=\"https://colab.research.google.com/assets/colab-badge.svg\" alt=\"Open In Colab\"/></a>"
      ]
    },
    {
      "cell_type": "code",
      "execution_count": 4,
      "metadata": {
        "colab": {
          "base_uri": "https://localhost:8080/"
        },
        "id": "n0iblCMv0VC0",
        "outputId": "d0359111-5840-4fcc-8b47-4f9eae9fe41a"
      },
      "outputs": [
        {
          "output_type": "stream",
          "name": "stdout",
          "text": [
            "'ASERTA syslog puro.txt'\t  Logs_con_invalid.csv\t    Mensajes_menos_comunes.csv\n",
            "'INTERCABLE KT syslog puro.txt'   Logs_error.csv\t    Syslog17042024.txt\n",
            "'INTERCABLE syslog puro.txt'\t  Logs_error_nol3.csv\t    Syslog_dataframe.csv\n",
            "'KT syslog puro.txt'\t\t  Logs_warning.csv\t    syslog_puro.txt\n",
            " Logs_con_cannot.csv\t\t  mas_de20.csv\t\t    warns_y_errors.csv\n",
            " Logs_con_fail.csv\t\t 'Mensajes_menos comunes'\n"
          ]
        }
      ],
      "source": [
        "! ls drive/MyDrive/AnalisisSyslogs/\n"
      ]
    }
  ]
}